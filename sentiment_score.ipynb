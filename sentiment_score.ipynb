{
 "cells": [
  {
   "cell_type": "code",
   "execution_count": null,
   "metadata": {},
   "outputs": [],
   "source": [
    "import requests\n",
    "import datetime\n",
    "import torch\n",
    "from transformers import AutoTokenizer, AutoModelForSequenceClassification\n",
    "import numpy as np"
   ]
  },
  {
   "cell_type": "code",
   "execution_count": 27,
   "metadata": {},
   "outputs": [],
   "source": [
    "def fetch_finnhub_news(symbol=\"AVGO\", days=30, target_date=None):\n",
    "    \"\"\"\n",
    "    Fetch company news for the given symbol from Finnhub over the past `days` days relative to `target_date`.\n",
    "    \n",
    "    Parameters:\n",
    "      - symbol: Stock ticker symbol (default \"AVGO\" for Broadcom)\n",
    "      - days: Number of days in the past to fetch news (default is 30)\n",
    "      - target_date: The reference date (as a datetime.date object or ISO format string). \n",
    "                     If None, uses today's date.\n",
    "    \n",
    "    Returns:\n",
    "      A list of news articles (each is a dictionary with keys like 'headline', 'datetime', etc.)\n",
    "    \"\"\"\n",
    "    # Allow target_date to be a string; if so, convert it to a date object.\n",
    "    if target_date is None:\n",
    "        target_date = datetime.date.today()\n",
    "    elif isinstance(target_date, str):\n",
    "        try:\n",
    "            # fromisoformat supports \"YYYY-MM-DD\" (and extended formats)\n",
    "            target_date = datetime.datetime.fromisoformat(target_date).date()\n",
    "        except Exception as e:\n",
    "            print(f\"Error parsing target_date string: {e}. Using today's date instead.\")\n",
    "            target_date = datetime.date.today()\n",
    "    \n",
    "    start_date = (target_date - datetime.timedelta(days=days)).strftime(\"%Y-%m-%d\")\n",
    "    end_date = target_date.strftime(\"%Y-%m-%d\")\n",
    "    \n",
    "    url = f\"https://finnhub.io/api/v1/company-news?symbol={symbol}&from={start_date}&to={end_date}&token={API_KEY}\"\n",
    "    response = requests.get(url)\n",
    "    if response.status_code == 200:\n",
    "        news_data = response.json()\n",
    "        return news_data\n",
    "    else:\n",
    "        print(f\"Error fetching news: {response.status_code} - {response.text}\")\n",
    "        return []"
   ]
  },
  {
   "cell_type": "code",
   "execution_count": 28,
   "metadata": {},
   "outputs": [
    {
     "data": {
      "text/plain": [
       "BertForSequenceClassification(\n",
       "  (bert): BertModel(\n",
       "    (embeddings): BertEmbeddings(\n",
       "      (word_embeddings): Embedding(30522, 768, padding_idx=0)\n",
       "      (position_embeddings): Embedding(512, 768)\n",
       "      (token_type_embeddings): Embedding(2, 768)\n",
       "      (LayerNorm): LayerNorm((768,), eps=1e-12, elementwise_affine=True)\n",
       "      (dropout): Dropout(p=0.1, inplace=False)\n",
       "    )\n",
       "    (encoder): BertEncoder(\n",
       "      (layer): ModuleList(\n",
       "        (0-11): 12 x BertLayer(\n",
       "          (attention): BertAttention(\n",
       "            (self): BertSdpaSelfAttention(\n",
       "              (query): Linear(in_features=768, out_features=768, bias=True)\n",
       "              (key): Linear(in_features=768, out_features=768, bias=True)\n",
       "              (value): Linear(in_features=768, out_features=768, bias=True)\n",
       "              (dropout): Dropout(p=0.1, inplace=False)\n",
       "            )\n",
       "            (output): BertSelfOutput(\n",
       "              (dense): Linear(in_features=768, out_features=768, bias=True)\n",
       "              (LayerNorm): LayerNorm((768,), eps=1e-12, elementwise_affine=True)\n",
       "              (dropout): Dropout(p=0.1, inplace=False)\n",
       "            )\n",
       "          )\n",
       "          (intermediate): BertIntermediate(\n",
       "            (dense): Linear(in_features=768, out_features=3072, bias=True)\n",
       "            (intermediate_act_fn): GELUActivation()\n",
       "          )\n",
       "          (output): BertOutput(\n",
       "            (dense): Linear(in_features=3072, out_features=768, bias=True)\n",
       "            (LayerNorm): LayerNorm((768,), eps=1e-12, elementwise_affine=True)\n",
       "            (dropout): Dropout(p=0.1, inplace=False)\n",
       "          )\n",
       "        )\n",
       "      )\n",
       "    )\n",
       "    (pooler): BertPooler(\n",
       "      (dense): Linear(in_features=768, out_features=768, bias=True)\n",
       "      (activation): Tanh()\n",
       "    )\n",
       "  )\n",
       "  (dropout): Dropout(p=0.1, inplace=False)\n",
       "  (classifier): Linear(in_features=768, out_features=3, bias=True)\n",
       ")"
      ]
     },
     "execution_count": 28,
     "metadata": {},
     "output_type": "execute_result"
    }
   ],
   "source": [
    "# -----------------------------\n",
    "# FinBERT Sentiment Analysis\n",
    "# -----------------------------\n",
    "\n",
    "# Load FinBERT model and tokenizer from HuggingFace\n",
    "tokenizer = AutoTokenizer.from_pretrained(\"ProsusAI/finbert\")\n",
    "finbert_model = AutoModelForSequenceClassification.from_pretrained(\"ProsusAI/finbert\")\n",
    "finbert_model.eval()"
   ]
  },
  {
   "cell_type": "code",
   "execution_count": 29,
   "metadata": {},
   "outputs": [],
   "source": [
    "def get_sentiment_score(text):\n",
    "    \"\"\"\n",
    "    Uses FinBERT to compute a sentiment score for the given text.\n",
    "    Score = (Positive probability - Negative probability), range ~[-1, 1].\n",
    "    \"\"\"\n",
    "    inputs = tokenizer(text, return_tensors=\"pt\", truncation=True, padding=True)\n",
    "    with torch.no_grad():\n",
    "        outputs = finbert_model(**inputs)\n",
    "    scores = torch.softmax(outputs.logits, dim=1)\n",
    "    # Assuming label order: 0 = negative, 1 = neutral, 2 = positive\n",
    "    pos_prob = scores[0][2].item()\n",
    "    neg_prob = scores[0][0].item()\n",
    "    sentiment = pos_prob - neg_prob\n",
    "    return sentiment"
   ]
  },
  {
   "cell_type": "code",
   "execution_count": 33,
   "metadata": {},
   "outputs": [],
   "source": [
    "def compute_sentiment_for_date(target_date_str, symbol=\"AVGO\", decay_rate=0.1):\n",
    "    \"\"\"\n",
    "    Callable parent function that:\n",
    "      - Accepts a target date string (\"YYYY-MM-DD\")\n",
    "      - Fetches news articles for the past 30 days relative to that date\n",
    "      - Computes FinBERT sentiment scores for each article\n",
    "      - Applies exponential decay weighting (more recent news gets higher weight)\n",
    "      - Returns the aggregated weighted sentiment score as an integer.\n",
    "    \n",
    "    Parameters:\n",
    "      - target_date_str: Date for analysis in \"YYYY-MM-DD\" format.\n",
    "      - symbol: Stock ticker symbol (default \"AVGO\")\n",
    "      - decay_rate: Exponential decay factor (default 0.1)\n",
    "    \n",
    "    Returns:\n",
    "      - Aggregated weighted sentiment score (integer)\n",
    "    \"\"\"\n",
    "    # Convert target_date_str to a datetime.date object\n",
    "    target_date = datetime.datetime.strptime(target_date_str, \"%Y-%m-%d\").date()\n",
    "    \n",
    "    # Fetch news articles for the past 30 days relative to target_date\n",
    "    news_articles = fetch_finnhub_news(symbol=symbol, days=30, target_date=target_date)\n",
    "    \n",
    "    if not news_articles:\n",
    "        print(\"No news articles found.\")\n",
    "        return 0  # Return neutral sentiment if no news found\n",
    "\n",
    "    # Use target_date (set at midnight) as the reference for weighting\n",
    "    reference_datetime = datetime.datetime.combine(target_date, datetime.datetime.min.time())\n",
    "    \n",
    "    weighted_scores = []\n",
    "    total_weight = 0.0\n",
    "    \n",
    "    for article in news_articles:\n",
    "        text = article.get('headline', '')\n",
    "        if not text:\n",
    "            continue\n",
    "        \n",
    "        sentiment = get_sentiment_score(text)\n",
    "        article_date = datetime.datetime.fromtimestamp(article['datetime'])\n",
    "        age_days = (reference_datetime - article_date).days\n",
    "        weight = np.exp(-decay_rate * age_days)\n",
    "        \n",
    "        weighted_scores.append(sentiment * weight)\n",
    "        total_weight += weight\n",
    "    \n",
    "    if total_weight > 0:\n",
    "        aggregated_sentiment = sum(weighted_scores) / total_weight\n",
    "    else:\n",
    "        aggregated_sentiment = 0.0\n",
    "\n",
    "    # Return the aggregated sentiment score as an integer\n",
    "    return aggregated_sentiment"
   ]
  },
  {
   "cell_type": "code",
   "execution_count": 35,
   "metadata": {},
   "outputs": [
    {
     "name": "stdout",
     "output_type": "stream",
     "text": [
      "Weighted Aggregated Sentiment Score for 2025-03-01: 0.39475827822263787\n"
     ]
    }
   ],
   "source": [
    "sentiment_score = compute_sentiment_for_date(\"2025-03-01\")\n",
    "print(f\"Weighted Aggregated Sentiment Score for 2025-03-01: {sentiment_score}\")"
   ]
  }
 ],
 "metadata": {
  "kernelspec": {
   "display_name": "Python 3",
   "language": "python",
   "name": "python3"
  },
  "language_info": {
   "codemirror_mode": {
    "name": "ipython",
    "version": 3
   },
   "file_extension": ".py",
   "mimetype": "text/x-python",
   "name": "python",
   "nbconvert_exporter": "python",
   "pygments_lexer": "ipython3",
   "version": "3.10.9"
  }
 },
 "nbformat": 4,
 "nbformat_minor": 2
}
