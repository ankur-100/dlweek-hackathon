{
 "cells": [
  {
   "cell_type": "code",
   "execution_count": 5,
   "metadata": {},
   "outputs": [],
   "source": [
    "import requests\n",
    "import datetime\n",
    "import feedparser\n",
    "from textblob import TextBlob"
   ]
  },
  {
   "cell_type": "code",
   "execution_count": 3,
   "metadata": {},
   "outputs": [],
   "source": [
    "# Replace with your Finnhub API Key\n",
    "FINNHUB_API_KEY = \"cv1bm91r01qhkk81os0gcv1bm91r01qhkk81os10\""
   ]
  },
  {
   "cell_type": "code",
   "execution_count": 28,
   "metadata": {},
   "outputs": [],
   "source": [
    "def get_finnhub_news(stock_ticker, start_date, end_date):\n",
    "    \"\"\"\n",
    "    Fetches stock news from Finnhub before the given date.\n",
    "    \"\"\"\n",
    "    url = \"https://finnhub.io/api/v1/company-news\"\n",
    "    params = {\n",
    "        \"symbol\": stock_ticker.upper(),\n",
    "        \"from\": start_date,\n",
    "        \"to\": end_date,\n",
    "        \"token\": FINNHUB_API_KEY\n",
    "    }\n",
    "\n",
    "    response = requests.get(url, params=params)\n",
    "    data = response.json()\n",
    "\n",
    "    if not isinstance(data, list):\n",
    "        print(f\"Error fetching news: {data}\")\n",
    "        return []\n",
    "\n",
    "    articles = [article[\"headline\"] + \" \" + (article.get(\"summary\") or \"\") for article in data]\n",
    "    return articles"
   ]
  },
  {
   "cell_type": "code",
   "execution_count": 42,
   "metadata": {},
   "outputs": [],
   "source": [
    "def analyze_sentiment(articles):\n",
    "    \"\"\"\n",
    "    Performs sentiment analysis on the articles and returns an overall sentiment score.\n",
    "    \"\"\"\n",
    "    sentiment_scores = [TextBlob(article).sentiment.polarity for article in articles]\n",
    "\n",
    "    if not sentiment_scores:\n",
    "        return \"No articles found\"\n",
    "    \n",
    "    count = len(articles)\n",
    "    for i in range(0, count):\n",
    "        sentiment_scores[i] = sentiment_scores[i] * ((count - i) / count)\n",
    "\n",
    "    avg_sentiment = (sum(sentiment_scores) / len(sentiment_scores))*10\n",
    "\n",
    "    return avg_sentiment\n",
    "\n",
    "    # if avg_sentiment > 0.5:\n",
    "    #     return \"Positive\"\n",
    "    # elif avg_sentiment < -0.5:\n",
    "    #     return \"Negative\"\n",
    "    # else:\n",
    "    #     return \"Neutral\""
   ]
  },
  {
   "cell_type": "code",
   "execution_count": 43,
   "metadata": {},
   "outputs": [
    {
     "name": "stdout",
     "output_type": "stream",
     "text": [
      "Fetching latest news articles about AVGO from Finnhub before 2025-03-01...\n",
      "Overall Sentiment: 0.8558830748816919\n"
     ]
    }
   ],
   "source": [
    "if __name__ == \"__main__\":\n",
    "    stock_ticker = input(\"Enter stock ticker (e.g., AAPL, TSLA): \")\n",
    "    end_date = input(\"Enter date (YYYY-MM-DD): \")\n",
    "\n",
    "    try:\n",
    "        end_date_object = datetime.datetime.strptime(end_date, \"%Y-%m-%d\")  # Validate date format\n",
    "    except ValueError:\n",
    "        print(\"Invalid date format. Use YYYY-MM-DD.\")\n",
    "        exit()\n",
    "    \n",
    "    start_date_object = end_date_object + datetime.timedelta(-30)\n",
    "    start_date = start_date_object.strftime(\"%Y-%m-%d\")\n",
    "    end_date = end_date_object.strftime(\"%Y-%m-%d\")\n",
    "\n",
    "    print(f\"Fetching latest news articles about {stock_ticker} from Finnhub before {end_date}...\")\n",
    "\n",
    "    articles = get_finnhub_news(stock_ticker, start_date, end_date)\n",
    "\n",
    "    if not articles:\n",
    "        print(\"No articles found.\")\n",
    "    else:\n",
    "        sentiment_result = analyze_sentiment(articles)\n",
    "        print(f\"Overall Sentiment: {sentiment_result}\")"
   ]
  },
  {
   "cell_type": "code",
   "execution_count": null,
   "metadata": {},
   "outputs": [],
   "source": []
  }
 ],
 "metadata": {
  "kernelspec": {
   "display_name": "Python 3",
   "language": "python",
   "name": "python3"
  },
  "language_info": {
   "codemirror_mode": {
    "name": "ipython",
    "version": 3
   },
   "file_extension": ".py",
   "mimetype": "text/x-python",
   "name": "python",
   "nbconvert_exporter": "python",
   "pygments_lexer": "ipython3",
   "version": "3.9.0"
  }
 },
 "nbformat": 4,
 "nbformat_minor": 2
}
